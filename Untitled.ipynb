{
 "cells": [
  {
   "cell_type": "code",
   "execution_count": 3,
   "id": "7df8666e-758c-4550-9542-9b69668111b2",
   "metadata": {},
   "outputs": [
    {
     "name": "stdout",
     "output_type": "stream",
     "text": [
      "Connection to PostgreSQL DB successful\n"
     ]
    }
   ],
   "source": [
    "import psycopg2\n",
    "from psycopg2 import OperationalError\n",
    "\n",
    "def create_connection(db_host, db_port, db_name, db_user, db_password):\n",
    "    connection = None\n",
    "    try:\n",
    "        connection = psycopg2.connect(\n",
    "            host=db_host,\n",
    "            port=db_port,\n",
    "            database=db_name,\n",
    "            user=db_user,\n",
    "            password=db_password\n",
    "        )\n",
    "        print(\"Connection to PostgreSQL DB successful\")\n",
    "    except OperationalError as e:\n",
    "        print(f\"The error '{e}' occurred\")\n",
    "    return connection\n",
    "\n",
    "# Define your database connection details\n",
    "db_host = '172.208.27.131'\n",
    "db_port = '5432'\n",
    "db_name = 'postgres'\n",
    "db_user = 'postgres'\n",
    "db_password = '1234'\n",
    "\n",
    "# Check the connection\n",
    "connection = create_connection(db_host, db_port, db_name, db_user, db_password)\n"
   ]
  },
  {
   "cell_type": "code",
   "execution_count": null,
   "id": "cfae2b86-8ec6-4563-aa52-de0cdc0c310c",
   "metadata": {},
   "outputs": [],
   "source": []
  }
 ],
 "metadata": {
  "kernelspec": {
   "display_name": "Python 3 (ipykernel)",
   "language": "python",
   "name": "python3"
  },
  "language_info": {
   "codemirror_mode": {
    "name": "ipython",
    "version": 3
   },
   "file_extension": ".py",
   "mimetype": "text/x-python",
   "name": "python",
   "nbconvert_exporter": "python",
   "pygments_lexer": "ipython3",
   "version": "3.8.19"
  }
 },
 "nbformat": 4,
 "nbformat_minor": 5
}
