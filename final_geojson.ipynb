{
 "cells": [
  {
   "cell_type": "code",
   "execution_count": 1,
   "id": "02e5e967-990e-4113-8de4-3679e1888a23",
   "metadata": {},
   "outputs": [
    {
     "name": "stdout",
     "output_type": "stream",
     "text": [
      "1.4.51\n",
      "0.9.2\n",
      "python=3.8\n"
     ]
    }
   ],
   "source": [
    "import sqlalchemy\n",
    "import geoalchemy2\n",
    "\n",
    "print(sqlalchemy.__version__) # 1.4.51\n",
    "print(geoalchemy2.__version__) # 0.9.2\n",
    "print(\"python=3.8\")"
   ]
  },
  {
   "cell_type": "code",
   "execution_count": 2,
   "id": "779e6b62-e874-4c6e-a6ef-347854ecd529",
   "metadata": {},
   "outputs": [
    {
     "name": "stdout",
     "output_type": "stream",
     "text": [
      "1.4.51\n"
     ]
    }
   ],
   "source": [
    "from sqlalchemy import create_engine, Column, Integer, String, MetaData, Table, Float, select, update, delete, text\n",
    "import sqlalchemy\n",
    "from geoalchemy2 import Geometry\n",
    "\n",
    "print(sqlalchemy.__version__)\n",
    "# Define the connection string components\n",
    "username = \"postgres\"\n",
    "password = \"1234\"\n",
    "host = \"172.208.27.131\"\n",
    "port = \"5432\"\n",
    "database = \"postgres\"\n",
    "\n",
    "# Construct the connection string using an f-string\n",
    "connection_string = f\"postgresql+psycopg2://{username}:{password}@{host}:{port}/{database}\"\n",
    "engine = create_engine(connection_string)\n"
   ]
  },
  {
   "cell_type": "code",
   "execution_count": null,
   "id": "855884ba-34f4-4667-9983-47eb887e100f",
   "metadata": {},
   "outputs": [],
   "source": [
    "# Function to check if an index exists\n",
    "def index_exists(table_name, index_name):\n",
    "    index_exists_query = f\"\"\"\n",
    "    SELECT 1 \n",
    "    FROM pg_indexes \n",
    "    WHERE tablename = '{table_name}' \n",
    "    AND indexname = '{index_name}';\n",
    "    \"\"\"\n",
    "    result = connection.execute(index_exists_query).fetchone()\n",
    "    return result is not None"
   ]
  },
  {
   "cell_type": "code",
   "execution_count": null,
   "id": "a864eeea-d03c-4c5d-b472-5e9dfc96b412",
   "metadata": {},
   "outputs": [],
   "source": [
    "with engine.connect() as connection:\n",
    "    try:\n",
    "        # Check and create index idx_latest_sales_data on latest_sales_data(\"PIN\")\n",
    "        if not index_exists('latest_sales_data', 'idx_latest_sales_data'):\n",
    "            connection.execute('CREATE INDEX idx_latest_sales_data ON latest_sales_data(\"PIN\");')\n",
    "            print(\"CREATED idx_latest_sales_data index\")\n",
    "        else:\n",
    "            print(\"Index idx_latest_sales_data already exists, skipping creation\")\n",
    "        \n",
    "        # Check and create index idx_pin_table on parcelidtopin(pin)\n",
    "        if not index_exists('parcelidtopin', 'idx_pin_table'):\n",
    "            connection.execute('CREATE INDEX idx_pin_table ON parcelidtopin(pin);')\n",
    "            print(\"CREATED idx_pin_table index\")\n",
    "        else:\n",
    "            print(\"Index idx_pin_table already exists, skipping creation\")\n",
    "    \n",
    "    except Exception as e:\n",
    "        print(f\"An error occurred during data processing: {e}\")\n",
    "        "
   ]
  },
  {
   "cell_type": "code",
   "execution_count": 3,
   "id": "7a64fbb9-de98-429c-9ee2-26ebd7dbc206",
   "metadata": {},
   "outputs": [
    {
     "name": "stderr",
     "output_type": "stream",
     "text": [
      "/tmp/ipykernel_30667/2093838640.py:10: RemovedIn20Warning: Deprecated API features detected! These feature(s) are not compatible with SQLAlchemy 2.0. To prevent incompatible upgrades prior to updating applications, ensure requirements files are pinned to \"sqlalchemy<2.0\". Set environment variable SQLALCHEMY_WARN_20=1 to show all deprecation warnings.  Set environment variable SQLALCHEMY_SILENCE_UBER_WARNING=1 to silence this message. (Background on SQLAlchemy 2.0 at: https://sqlalche.me/e/b8d9)\n",
      "  result = connection.execute(index_exists_query).fetchone()\n"
     ]
    },
    {
     "name": "stdout",
     "output_type": "stream",
     "text": [
      "Index idx_geom already exists, skipping creation\n",
      "CREATED fl_geojson_parcel_pin table\n",
      "CREATED indexes on pin columns\n"
     ]
    }
   ],
   "source": [
    "\n",
    "with engine.connect() as connection:\n",
    "    try:\n",
    "        # Create temporary tables\n",
    "        connection.execute(\"\"\"\n",
    "            CREATE TABLE IF NOT EXISTS fl_geojson_parcel_pin AS\n",
    "            SELECT f.*, p.parcel_id, p.pin\n",
    "            FROM fl_geojson f\n",
    "            LEFT JOIN parcelidtopin p ON f.parcelno = p.parcel_id\n",
    "        \"\"\")\n",
    "        \n",
    "        print(\"CREATED fl_geojson_parcel_pin table\")\n",
    "        \n",
    "        # Check and create index idx_fl_geojson_pin on fl_geojson_parcel_pin(pin)\n",
    "        if not index_exists('fl_geojson_parcel_pin', 'idx_fl_geojson_pin'):\n",
    "            connection.execute('CREATE INDEX idx_fl_geojson_pin ON fl_geojson_parcel_pin(pin);')\n",
    "            print(\"CREATED idx_fl_geojson_pin index\")\n",
    "        else:\n",
    "            print(\"Index idx_fl_geojson_pin already exists, skipping creation\")\n",
    "\n",
    "\n",
    "    except Exception as e:\n",
    "        print(f\"An error occurred during data processing: {e}\")\n",
    "\n"
   ]
  },
  {
   "cell_type": "code",
   "execution_count": 5,
   "id": "7808ae56-1706-4954-bcf5-7e4bfce7dbcb",
   "metadata": {},
   "outputs": [
    {
     "name": "stdout",
     "output_type": "stream",
     "text": [
      "CREATED final_sales table\n",
      "CREATED idx_geom_final_sales index\n"
     ]
    }
   ],
   "source": [
    "with engine.connect() as connection:\n",
    "    try:\n",
    "        # Check if the table final_sales exists before creating it\n",
    "        table_exists_query = \"\"\"\n",
    "        SELECT 1 \n",
    "        FROM information_schema.tables \n",
    "        WHERE table_name = 'final_sales';\n",
    "        \"\"\"\n",
    "        result = connection.execute(table_exists_query).fetchone()\n",
    "        \n",
    "        if not result:\n",
    "            connection.execute(\"\"\"\n",
    "                CREATE TABLE final_sales AS\n",
    "                SELECT f.*, l.sale_price, l.sale_date, l.alt_key, l.\"ParcelID\", l.\"PIN\"\n",
    "                FROM fl_geojson_parcel_pin f\n",
    "                LEFT JOIN latest_sales_data l ON f.pin = l.\"PIN\"\n",
    "            \"\"\")\n",
    "            print(\"CREATED final_sales table\")\n",
    "        else:\n",
    "            print(\"Table final_sales already exists, skipping creation\")\n",
    "\n",
    "        # Check if the index idx_geom_final_sales exists before creating it\n",
    "        index_exists_query = \"\"\"\n",
    "        SELECT 1 \n",
    "        FROM pg_indexes \n",
    "        WHERE tablename = 'final_sales' \n",
    "        AND indexname = 'idx_geom_final_sales';\n",
    "        \"\"\"\n",
    "        result = connection.execute(index_exists_query).fetchone()\n",
    "        \n",
    "        if not result:\n",
    "            connection.execute('CREATE INDEX idx_geom_final_sales ON final_sales USING SPGIST(wkb_geometry);')\n",
    "            print(\"CREATED idx_geom_final_sales index\")\n",
    "        else:\n",
    "            print(\"Index idx_geom_final_sales already exists, skipping creation\")\n",
    "            \n",
    "    except Exception as e:\n",
    "        print(f\"An error occurred during data processing: {e}\")\n"
   ]
  },
  {
   "cell_type": "code",
   "execution_count": 6,
   "id": "aa9b8cd6-88eb-4bf1-bdf9-1d6bc2c00d75",
   "metadata": {},
   "outputs": [
    {
     "name": "stdout",
     "output_type": "stream",
     "text": [
      "Data merged and index created successfully!\n"
     ]
    }
   ],
   "source": [
    "with engine.connect() as connection:\n",
    "    try:\n",
    "        # Update final_ table with matching data from latest_sales_data\n",
    "        connection.execute(\"\"\"\n",
    "        UPDATE final_sales\n",
    "        SET\n",
    "            sale_price = l.sale_price,\n",
    "            sale_date = l.sale_date,\n",
    "            alt_key = l.alt_key,\n",
    "            \"ParcelID\" = l.\"ParcelID\",\n",
    "            \"PIN\" = l.\"PIN\"\n",
    "        FROM latest_sales_data l \n",
    "        WHERE final_sales.parcel_id = l.\"ParcelID\" AND final_sales.\"PIN\" IS NULL;\n",
    "        \"\"\")\n",
    "        \n",
    "        # Delete rows from final_ with missing sale_price and capture the number of rows deleted\n",
    "        delete_result = connection.execute(\"DELETE FROM final_sales WHERE sale_price IS NULL;\")\n",
    "        rows_deleted = delete_result.rowcount\n",
    "        print(f\"Deleted {rows_deleted} rows from final_sales table where sale_price is NULL.\")\n",
    "\n",
    "        # Drop the pin column from final_ table\n",
    "        connection.execute(text(\"ALTER TABLE final_sales DROP COLUMN pin\"))\n",
    "        print(\"Dropped pin column from final_sales table.\")\n",
    "\n",
    "        # Create a spatial index on the geometry column (assuming SPGIST extension is available)\n",
    "        if engine.dialect.name == 'postgresql':\n",
    "            connection.execute(text(\"CREATE INDEX idx_final_geom ON final_sales USING SPGIST (wkb_geometry)\"))\n",
    "            print(\"CREATED idx_final_geom index on wkb_geometry column.\")\n",
    "    except Exception as e:\n",
    "        print(f\"An error occurred during data processing: {e}\")\n",
    "\n",
    "print(\"Data merged and index created successfully!\")"
   ]
  },
  {
   "cell_type": "code",
   "execution_count": null,
   "id": "25430ce9-65ec-472d-aabc-d9138c83356a",
   "metadata": {},
   "outputs": [],
   "source": []
  },
  {
   "cell_type": "code",
   "execution_count": null,
   "id": "6876dc70-d0b2-4f2a-b4eb-87a01a5b5bda",
   "metadata": {},
   "outputs": [],
   "source": []
  }
 ],
 "metadata": {
  "kernelspec": {
   "display_name": "Python 3 (ipykernel)",
   "language": "python",
   "name": "python3"
  },
  "language_info": {
   "codemirror_mode": {
    "name": "ipython",
    "version": 3
   },
   "file_extension": ".py",
   "mimetype": "text/x-python",
   "name": "python",
   "nbconvert_exporter": "python",
   "pygments_lexer": "ipython3",
   "version": "3.8.19"
  }
 },
 "nbformat": 4,
 "nbformat_minor": 5
}
