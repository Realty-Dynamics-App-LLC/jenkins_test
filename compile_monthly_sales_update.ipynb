{
 "cells": [
  {
   "cell_type": "code",
   "execution_count": 1,
   "id": "778994c5-ec62-461d-aee5-def466cfd0b0",
   "metadata": {},
   "outputs": [],
   "source": [
    "import pandas as pd\n",
    "import geopandas as gpd\n",
    "from shapely.geometry import shape\n",
    "import psycopg2\n",
    "import json"
   ]
  },
  {
   "cell_type": "markdown",
   "id": "9d99219b-b528-4da6-8356-d2f7c3ba2c76",
   "metadata": {},
   "source": [
    "Use the following block of code when checking schema for a batch of geojson files in a directory."
   ]
  },
  {
   "cell_type": "code",
   "execution_count": 2,
   "id": "757b0297-d526-48ac-873c-0a71959f2823",
   "metadata": {},
   "outputs": [],
   "source": [
    "# We'll first check the schema of each file\n",
    "\n",
    "import os\n",
    "import fiona\n",
    "from shapely.geometry import shape\n",
    "import geopandas as gpd\n",
    "from dask import delayed, compute\n",
    "import dask.dataframe as dd\n",
    "\n",
    "directory_path = 'data/sales_gis/monthly_updates'\n",
    "\n",
    "# Function to read first n lines of a GeoJSON file into a GeoDataFrame\n",
    "def read_n_features(filepath, n):\n",
    "    features = []\n",
    "    with fiona.open(filepath) as src:\n",
    "        for i, feature in enumerate(src):\n",
    "            if i >= n:\n",
    "                break\n",
    "            features.append(feature)\n",
    "    \n",
    "    # Convert to GeoDataFrame\n",
    "    return gpd.GeoDataFrame.from_features(features)\n",
    "\n",
    "geojson_files = [os.path.join(directory_path, f) for f in os.listdir(directory_path) if f.endswith('.geojson')]\n",
    "\n",
    "# Load GeoJSON files\n",
    "gdfs = [read_n_features(f, 5) for f in geojson_files]"
   ]
  },
  {
   "cell_type": "code",
   "execution_count": 2,
   "id": "560dc156-242c-40a2-ab7b-d0dfd7aef6f6",
   "metadata": {},
   "outputs": [],
   "source": [
    "dbname = \"florida_database\"\n",
    "user = \"postgres\"\n",
    "password = \"team_password\"\n",
    "host = \"40.114.30.220\"\n",
    "port = \"5432\"\n",
    "county_name = \"Hillsborough\"\n",
    "sql_query = f\"\"\"\n",
    "SELECT pin, parcelno, ST_AsGeoJSON(wkb_geometry) AS geom\n",
    "FROM florida_latest_xl_table WHERE county_name='{county_name}';\n",
    "\"\"\"\n",
    "\n",
    "def fetch_spatial_data(dbname, user, password, host, port, sql_query):\n",
    "    try:\n",
    "        # Connect to your database\n",
    "        conn = psycopg2.connect(\n",
    "            dbname=dbname,\n",
    "            user=user,\n",
    "            password=password,\n",
    "            host=host,\n",
    "            port=port\n",
    "        )\n",
    "        \n",
    "        # Create a cursor object\n",
    "        cur = conn.cursor()\n",
    "        \n",
    "        # Execute the query\n",
    "        cur.execute(sql_query)\n",
    "        \n",
    "        # Fetch the results\n",
    "        rows = cur.fetchall()\n",
    "        \n",
    "        # Process the results\n",
    "        spatial_data = []\n",
    "        for row in rows:\n",
    "            # Convert the GeoJSON string into a Python dictionary\n",
    "            geom_json = json.loads(row[2])\n",
    "            spatial_data.append({\n",
    "                \"PIN\": row[0],\n",
    "                \"Parcel Number\": row[1],\n",
    "                \"geom_json\": geom_json\n",
    "            })\n",
    "        \n",
    "        # Close the cursor and connection\n",
    "        cur.close()\n",
    "        conn.close()\n",
    "        \n",
    "        return spatial_data\n",
    "\n",
    "    except Exception as e:\n",
    "        print(f\"An error occurred: {e}\")\n",
    "        return None\n",
    "    \n",
    "parcel_geometry =  fetch_spatial_data(dbname, user, password, host, port, sql_query)\n",
    "\n",
    "gdf = gpd.GeoDataFrame(parcel_geometry)\n",
    "\n",
    "gdf[\"geometry\"] = gdf.loc[:,\"geom_json\"].apply(lambda x: shape(x))\n",
    "\n",
    "gdf.set_geometry(\"geometry\")\n",
    "gdf.crs = gdf.loc[0,\"geom_json\"][\"crs\"][\"properties\"][\"name\"]"
   ]
  },
  {
   "cell_type": "markdown",
   "id": "ba5fdd0b-3c45-491c-8833-fff7719cff4d",
   "metadata": {},
   "source": [
    "For one-off updates, we'll use a more custom approach as shown below."
   ]
  },
  {
   "cell_type": "markdown",
   "id": "736270d8-b72a-4349-8914-9b569b911d77",
   "metadata": {},
   "source": [
    "### Hillsborough"
   ]
  },
  {
   "cell_type": "code",
   "execution_count": 2,
   "id": "6289c686-1c68-460b-b2c7-7b3be8e206dc",
   "metadata": {},
   "outputs": [],
   "source": [
    "gdf = gpd.read_file('data/GIS/2023/hillsborough_2023pin.zip')"
   ]
  },
  {
   "cell_type": "code",
   "execution_count": 3,
   "id": "f21b940e-1d0c-4b85-b8f5-3093a67b51b2",
   "metadata": {},
   "outputs": [],
   "source": [
    "# Function to transform the PIN based on county rules\n",
    "def transform_pin(parcel_id, county, county_code):\n",
    "    if county in ['Bradford', 'Desoto', 'Jackson'] or county_code in [14, 24, 42]:\n",
    "        return parcel_id.lstrip('R')\n",
    "    elif county == 'Duval' or county_code == 26:\n",
    "        return parcel_id.rstrip('R')\n",
    "    elif county in ['Brevard', 'Escambia'] or county_code in [15, 27]:\n",
    "        return parcel_id  # No transformation\n",
    "    elif county == 'Indian River' or county_code == 41:\n",
    "        return parcel_id.replace('.', '/')\n",
    "    elif county == 'Monroe' or county_code == 54:\n",
    "        return parcel_id[8:]\n",
    "    elif county == 'Orange' or county_code == 58:\n",
    "        parts = [parcel_id[:2], parcel_id[2:4], parcel_id[4:6], parcel_id[6:10], parcel_id[10:12], parcel_id[12:]]\n",
    "        return '-'.join(parts)\n",
    "    elif county == 'Hillsborough' or county_code == 39:\n",
    "        try:\n",
    "            transformed_string = (parcel_id[-1] + \"-\" +\n",
    "                                  parcel_id[4:6] + \"-\" +\n",
    "                                  parcel_id[2:4] + \"-\" +\n",
    "                                  parcel_id[0:2] + \"-\" +\n",
    "                                  parcel_id[6:9] + \"-\" +\n",
    "                                  parcel_id[9:15] + \"-\" +\n",
    "                                  parcel_id[15:20] + \".\" +\n",
    "                                  parcel_id[20])\n",
    "            return transformed_string\n",
    "        except:\n",
    "            pass\n",
    "    elif county == 'Glades' or county_code == 32:\n",
    "        return f\"{parcel_id[:3]}-{parcel_id[3:5]}-{parcel_id[5:7]}-{parcel_id[7:10]}-{parcel_id[10:14]}-{parcel_id[14:]}\"\n",
    "    elif county == 'Gulf' or county_code == 33:\n",
    "        return f\"{parcel_id[:5]}-{parcel_id[5:]}\"\n",
    "    elif county == 'Hardee' or county_code == 35:\n",
    "        return f\"{parcel_id[:2]}-{parcel_id[2:4]}-{parcel_id[4:6]}-{parcel_id[6:10]}-{parcel_id[10:15]}-{parcel_id[15:]}\"\n",
    "    elif county == 'Jackson' or county_code == 42:\n",
    "        return f\"{parcel_id[:2]}-{parcel_id[2:4]}-{parcel_id[4:6]}-{parcel_id[6:10]}-{parcel_id[10:13]}-{parcel_id[13:]}\"\n",
    "    elif county == 'Madison' or county_code == 50:\n",
    "        return f\"{parcel_id[:2]}-{parcel_id[2:4]}-{parcel_id[4:6]}-{parcel_id[6:10]}-{parcel_id[10:13]}-{parcel_id[13:]}\"\n",
    "    elif county == 'Monroe' or county_code == 54:\n",
    "        return f\"{parcel_id[:8]}-{parcel_id[8:]}\"\n",
    "    elif county == 'Pinellas' or county_code == 62:\n",
    "        return f\"{parcel_id[6:8]}-{parcel_id[3:5]}-{parcel_id[:2]}-{parcel_id[9:14]}-{parcel_id[15:18]}-{parcel_id[19:]}\"\n",
    "    elif county == 'Walton' or county_code == 76:\n",
    "        return f\"{parcel_id[:2]}-{parcel_id[2:4]}-{parcel_id[4:6]}-{parcel_id[6:11]}-{parcel_id[11:14]}-{parcel_id[14:]}\"\n",
    "    elif county == 'Washington' or county_code == 77:\n",
    "        return f\"{parcel_id[:8]}-{parcel_id[8:10]}-{parcel_id[10:14]}-{parcel_id[14:]}\"\n",
    "    elif county == 'Calhoun' or county_code == 17:\n",
    "        return f\"{parcel_id[:2]}-{parcel_id[2:4]}-{parcel_id[4:6]}-{parcel_id[6:10]}-{parcel_id[10:14]}-{parcel_id[14:]}\"\n",
    "    elif county == 'Dixie' or county_code == 25:\n",
    "        return f\"{parcel_id[:2]}-{parcel_id[2:4]}-{parcel_id[4:6]}-{parcel_id[6:10]}-{parcel_id[10:14]}-{parcel_id[14:]}\"\n",
    "    elif county == 'Hamilton' or county_code == 34:\n",
    "        return f\"{parcel_id[:4]}-{parcel_id[4:7]}\"    \n",
    "    else:\n",
    "        return parcel_id  # Default case if county not listed\n",
    "\n",
    "# Apply the transformation\n",
    "gdf['PIN'] = gdf.apply(lambda row: transform_pin(row['PARCELNO'], 'Hillsborough', 39), axis=1)"
   ]
  },
  {
   "cell_type": "code",
   "execution_count": 4,
   "id": "aa009277-08bd-4544-93cf-887da7e05601",
   "metadata": {},
   "outputs": [],
   "source": [
    "cutoff_date = pd.to_datetime('2023-08-01')"
   ]
  },
  {
   "cell_type": "code",
   "execution_count": 5,
   "id": "380d11bb-68fc-40f9-849c-89bfc1e72505",
   "metadata": {},
   "outputs": [
    {
     "data": {
      "text/plain": [
       "Index(['PIN', 'FOLIO', 'DOR_CODE', 'NBHC', 'S_DATE', 'VI', 'QU', 'REA_CD',\n",
       "       'S_AMT', 'SUB', 'STR', 'S_TYPE', 'OR_BK', 'OR_PG', 'GRANTOR', 'GRANTEE',\n",
       "       'DOC_NUM', 'geometry'],\n",
       "      dtype='object')"
      ]
     },
     "execution_count": 5,
     "metadata": {},
     "output_type": "execute_result"
    }
   ],
   "source": [
    "hillsborough_latest = gpd.read_file('data/sales_gis/monthly_updates/hillsborough/allsales_02_23_2024.zip')\n",
    "\n",
    "hillsborough_latest.columns"
   ]
  },
  {
   "cell_type": "code",
   "execution_count": 6,
   "id": "0bbf89be-d797-47c4-a9e5-3c2563062e65",
   "metadata": {},
   "outputs": [],
   "source": [
    "hillsborough_latest.rename(columns = {'S_DATE':'SALE DATE', 'S_AMT': 'SALE AMOUNT'}, inplace = True)\n",
    "\n",
    "hillsborough_latest['SALE DATE'] = pd.to_datetime(hillsborough_latest['SALE DATE'])\n",
    "\n",
    "hillsborough_latest = hillsborough_latest[hillsborough_latest['SALE DATE'] >= cutoff_date][['PIN', 'FOLIO', 'SALE DATE', 'SALE AMOUNT', 'GRANTOR', 'GRANTEE']]\n",
    "\n",
    "hillsborough_latest.reset_index(drop = True, inplace = True)"
   ]
  },
  {
   "cell_type": "code",
   "execution_count": 7,
   "id": "c0089511-d323-4ca5-a38e-e13f987419fb",
   "metadata": {},
   "outputs": [],
   "source": [
    "hillsborough_latest = hillsborough_latest.merge(gdf, on = 'PIN', how = 'left')"
   ]
  },
  {
   "cell_type": "code",
   "execution_count": 8,
   "id": "a03523ea-ec7b-4ef1-890b-80eb07f14b6f",
   "metadata": {},
   "outputs": [],
   "source": [
    "hillsborough_latest = gpd.GeoDataFrame(hillsborough_latest, geometry = 'geometry')\n",
    "hillsborough_latest.crs = gdf.crs"
   ]
  },
  {
   "cell_type": "code",
   "execution_count": 9,
   "id": "060ec054-050a-4d2d-a42e-151d4fdb6035",
   "metadata": {},
   "outputs": [],
   "source": [
    "hillsborough_latest.to_file('data/sales_gis/monthly_updates/latest_sales/hillsborough_latest_sales.geojson')"
   ]
  },
  {
   "cell_type": "code",
   "execution_count": 2,
   "id": "0964db72-73dc-4033-bbfc-ed01a3461265",
   "metadata": {},
   "outputs": [
    {
     "name": "stdout",
     "output_type": "stream",
     "text": [
      "<class 'geopandas.geodataframe.GeoDataFrame'>\n",
      "RangeIndex: 439535 entries, 0 to 439534\n",
      "Data columns (total 7 columns):\n",
      " #   Column  Non-Null Count   Dtype \n",
      "---  ------  --------------   ----- \n",
      " 0   PIN     439535 non-null  object\n",
      " 1   OWNER   439435 non-null  object\n",
      " 2   ADDR_1  439534 non-null  object\n",
      " 3   ADDR_2  8059 non-null    object\n",
      " 4   CITY    439532 non-null  object\n",
      " 5   STATE   437997 non-null  object\n",
      " 6   ZIP     438019 non-null  object\n",
      "dtypes: object(7)\n",
      "memory usage: 23.5+ MB\n"
     ]
    }
   ],
   "source": [
    "latest_owners = gpd.read_file('data/sales_gis/monthly_updates/hillsborough/parcel_02_23_2024.zip', include_fields = ['S_DATE', 'PIN', 'OWNER', 'ADDR_1', 'ADDR_2', 'CITY', 'STATE', 'ZIP'])\n",
    "latest_owners.dropna(subset = 'PIN', inplace = True)\n",
    "latest_owners.dropna(subset = 'S_DATE', inplace = True)\n",
    "latest_owners.sort_values(by = 'S_DATE', ascending = False, inplace = True)\n",
    "latest_owners.drop(columns=['S_DATE', 'geometry'], inplace = True)\n",
    "latest_owners.drop_duplicates(subset='PIN', keep='first')\n",
    "latest_owners.reset_index(drop = True, inplace = True)\n",
    "latest_owners.info(show_counts = True)"
   ]
  },
  {
   "cell_type": "code",
   "execution_count": 3,
   "id": "e3277ebf-0555-4eb4-aaaa-a7f36ed2234b",
   "metadata": {},
   "outputs": [],
   "source": [
    "def update_owner_names(dbname, user, password, host, port, dataframe):\n",
    "    try:\n",
    "        # Connect to database\n",
    "        conn = psycopg2.connect(\n",
    "            dbname=dbname,\n",
    "            user=user,\n",
    "            password=password,\n",
    "            host=host,\n",
    "            port=port\n",
    "        )\n",
    "        conn.autocommit = True  # Ensure changes are immediately committed\n",
    "        \n",
    "        # Create a cursor object\n",
    "        cur = conn.cursor()\n",
    "\n",
    "        # SQL statement to update owner names based on PIN\n",
    "        update_sql = \"\"\"\n",
    "        UPDATE florida_parcels_latest\n",
    "        SET own_name = %s,\n",
    "            own_addr1 = %s,\n",
    "            own_addr2 = %s,\n",
    "            own_city = %s,\n",
    "            own_state = %s,\n",
    "            own_zipcd = %s\n",
    "        WHERE pin = %s;\n",
    "        \"\"\"\n",
    "        \n",
    "        counter = 0\n",
    "        # Iterate through the DataFrame rows\n",
    "        for index, row in dataframe.iterrows():\n",
    "            try:\n",
    "                if counter%1000==0:\n",
    "                    print(counter)\n",
    "                pin = row['PIN']\n",
    "                own_name = row['OWNER']\n",
    "                own_addr1 = row['ADDR_1']\n",
    "                own_addr2 = row['ADDR_2']\n",
    "                own_city = row['CITY']\n",
    "                own_state = row['STATE']\n",
    "                own_zipcd = row['ZIP'][:5]\n",
    "            \n",
    "                # Execute the update query with the current PIN and OWNER\n",
    "                cur.execute(update_sql, (own_name, own_addr1, own_addr2, own_city, own_state, own_zipcd, pin))\n",
    "                counter+=1\n",
    "            except:\n",
    "                pass\n",
    "        \n",
    "        # Close the cursor and the connection\n",
    "        cur.close()\n",
    "        conn.close()\n",
    "        \n",
    "        print(\"Owner names updated successfully.\")\n",
    "        \n",
    "    except Exception as e:\n",
    "        print(f\"An error occurred: {e}\")\n"
   ]
  },
  {
   "cell_type": "code",
   "execution_count": 4,
   "id": "62e7d2f0-deb6-450c-a65a-eaa86616cbe4",
   "metadata": {
    "tags": []
   },
   "outputs": [
    {
     "name": "stdout",
     "output_type": "stream",
     "text": [
      "0\n",
      "1000\n",
      "2000\n",
      "3000\n",
      "4000\n",
      "5000\n",
      "6000\n",
      "7000\n",
      "8000\n",
      "9000\n",
      "10000\n",
      "11000\n",
      "12000\n",
      "13000\n",
      "14000\n",
      "15000\n",
      "16000\n",
      "17000\n",
      "18000\n",
      "19000\n",
      "20000\n",
      "21000\n",
      "22000\n",
      "23000\n",
      "24000\n",
      "25000\n",
      "26000\n",
      "27000\n",
      "28000\n",
      "29000\n",
      "30000\n",
      "31000\n",
      "32000\n",
      "33000\n",
      "34000\n",
      "35000\n",
      "36000\n",
      "37000\n",
      "38000\n",
      "39000\n",
      "40000\n",
      "41000\n",
      "42000\n",
      "43000\n",
      "44000\n",
      "45000\n",
      "46000\n",
      "47000\n",
      "48000\n",
      "49000\n",
      "50000\n",
      "51000\n",
      "52000\n",
      "53000\n",
      "54000\n",
      "55000\n",
      "56000\n",
      "57000\n",
      "58000\n",
      "59000\n",
      "60000\n",
      "61000\n",
      "62000\n",
      "63000\n",
      "64000\n",
      "65000\n",
      "66000\n",
      "67000\n",
      "68000\n",
      "69000\n",
      "70000\n",
      "71000\n",
      "Owner names updated successfully.\n"
     ]
    }
   ],
   "source": [
    "dbname = \"florida_database\"\n",
    "user = \"postgres\"\n",
    "password = \"team_password\"\n",
    "host = \"40.114.30.220\"\n",
    "port = \"5432\"\n",
    "\n",
    "update_owner_names(dbname, user, password, host, port, latest_owners[368_000:])"
   ]
  },
  {
   "cell_type": "markdown",
   "id": "6431858b-3fb6-4395-9d27-63eb233ba9b3",
   "metadata": {},
   "source": [
    "### Polk"
   ]
  },
  {
   "cell_type": "code",
   "execution_count": 2,
   "id": "5b8359c7-47ca-4c85-b37e-dfe636a13f71",
   "metadata": {},
   "outputs": [],
   "source": [
    "gdf = gpd.read_file('data/GIS/2023/polk_2023pin.zip')\n",
    "polk_latest = pd.read_csv('data/sales_gis/monthly_updates/polk/ftp_sales.txt')"
   ]
  },
  {
   "cell_type": "code",
   "execution_count": 3,
   "id": "4fd0b3f5-81ef-4aef-bc41-c6b9fe9ac16b",
   "metadata": {},
   "outputs": [],
   "source": [
    "# Function to transform the PIN based on county rules\n",
    "def transform_pin(parcel_id, county, county_code):\n",
    "    if county in ['Bradford', 'Desoto', 'Jackson'] or county_code in [14, 24, 42]:\n",
    "        return parcel_id.lstrip('R')\n",
    "    elif county == 'Duval' or county_code == 26:\n",
    "        return parcel_id.rstrip('R')\n",
    "    elif county in ['Brevard', 'Escambia'] or county_code in [15, 27]:\n",
    "        return parcel_id  # No transformation\n",
    "    elif county == 'Indian River' or county_code == 41:\n",
    "        return parcel_id.replace('.', '/')\n",
    "    elif county == 'Monroe' or county_code == 54:\n",
    "        return parcel_id[8:]\n",
    "    elif county == 'Orange' or county_code == 58:\n",
    "        parts = [parcel_id[:2], parcel_id[2:4], parcel_id[4:6], parcel_id[6:10], parcel_id[10:12], parcel_id[12:]]\n",
    "        return '-'.join(parts)\n",
    "    elif county == 'Hillsborough' or county_code == 39:\n",
    "        try:\n",
    "            transformed_string = (parcel_id[-1] + \"-\" +\n",
    "                                  parcel_id[4:6] + \"-\" +\n",
    "                                  parcel_id[2:4] + \"-\" +\n",
    "                                  parcel_id[0:2] + \"-\" +\n",
    "                                  parcel_id[6:9] + \"-\" +\n",
    "                                  parcel_id[9:15] + \"-\" +\n",
    "                                  parcel_id[15:20] + \".\" +\n",
    "                                  parcel_id[20])\n",
    "            return transformed_string\n",
    "        except:\n",
    "            pass\n",
    "    elif county == 'Glades' or county_code == 32:\n",
    "        return f\"{parcel_id[:3]}-{parcel_id[3:5]}-{parcel_id[5:7]}-{parcel_id[7:10]}-{parcel_id[10:14]}-{parcel_id[14:]}\"\n",
    "    elif county == 'Gulf' or county_code == 33:\n",
    "        return f\"{parcel_id[:5]}-{parcel_id[5:]}\"\n",
    "    elif county == 'Hardee' or county_code == 35:\n",
    "        return f\"{parcel_id[:2]}-{parcel_id[2:4]}-{parcel_id[4:6]}-{parcel_id[6:10]}-{parcel_id[10:15]}-{parcel_id[15:]}\"\n",
    "    elif county == 'Jackson' or county_code == 42:\n",
    "        return f\"{parcel_id[:2]}-{parcel_id[2:4]}-{parcel_id[4:6]}-{parcel_id[6:10]}-{parcel_id[10:13]}-{parcel_id[13:]}\"\n",
    "    elif county == 'Madison' or county_code == 50:\n",
    "        return f\"{parcel_id[:2]}-{parcel_id[2:4]}-{parcel_id[4:6]}-{parcel_id[6:10]}-{parcel_id[10:13]}-{parcel_id[13:]}\"\n",
    "    elif county == 'Monroe' or county_code == 54:\n",
    "        return f\"{parcel_id[:8]}-{parcel_id[8:]}\"\n",
    "    elif county == 'Pinellas' or county_code == 62:\n",
    "        return f\"{parcel_id[6:8]}-{parcel_id[3:5]}-{parcel_id[:2]}-{parcel_id[9:14]}-{parcel_id[15:18]}-{parcel_id[19:]}\"\n",
    "    elif county == 'Walton' or county_code == 76:\n",
    "        return f\"{parcel_id[:2]}-{parcel_id[2:4]}-{parcel_id[4:6]}-{parcel_id[6:11]}-{parcel_id[11:14]}-{parcel_id[14:]}\"\n",
    "    elif county == 'Washington' or county_code == 77:\n",
    "        return f\"{parcel_id[:8]}-{parcel_id[8:10]}-{parcel_id[10:14]}-{parcel_id[14:]}\"\n",
    "    elif county == 'Calhoun' or county_code == 17:\n",
    "        return f\"{parcel_id[:2]}-{parcel_id[2:4]}-{parcel_id[4:6]}-{parcel_id[6:10]}-{parcel_id[10:14]}-{parcel_id[14:]}\"\n",
    "    elif county == 'Dixie' or county_code == 25:\n",
    "        return f\"{parcel_id[:2]}-{parcel_id[2:4]}-{parcel_id[4:6]}-{parcel_id[6:10]}-{parcel_id[10:14]}-{parcel_id[14:]}\"\n",
    "    elif county == 'Hamilton' or county_code == 34:\n",
    "        return f\"{parcel_id[:4]}-{parcel_id[4:7]}\"    \n",
    "    else:\n",
    "        return str(parcel_id)  # Default case if county not listed"
   ]
  },
  {
   "cell_type": "code",
   "execution_count": 4,
   "id": "efd03a38-2136-419c-83e8-d5ef45b7eb8b",
   "metadata": {},
   "outputs": [],
   "source": [
    "# Apply the transformation\n",
    "gdf['PIN'] = gdf.apply(lambda row: transform_pin(row['PARCELNO'], 'Polk', 63), axis=1)\n",
    "\n",
    "polk_latest['PIN'] = polk_latest.apply(lambda row: transform_pin(row['PARCEL_ID'], 'Polk', 63), axis=1)"
   ]
  },
  {
   "cell_type": "code",
   "execution_count": 5,
   "id": "ec77e91f-d14b-4749-8e6f-d4a4f0c35ae7",
   "metadata": {},
   "outputs": [
    {
     "data": {
      "text/plain": [
       "Index(['PARCEL_ID', 'SALE_ID', 'LN_NUM', 'SALEDT', 'PRICE', 'BOOK', 'PAGE',\n",
       "       'SALETYPE', 'TRNS_CD', 'TRNS_DSCR', 'INSTRTYP', 'INSTRTYP_DSCR',\n",
       "       'GRANTOR', 'GRANTEE', 'FORECLOSURE', 'PIN'],\n",
       "      dtype='object')"
      ]
     },
     "execution_count": 5,
     "metadata": {},
     "output_type": "execute_result"
    }
   ],
   "source": [
    "polk_latest.columns"
   ]
  },
  {
   "cell_type": "code",
   "execution_count": 6,
   "id": "381c4825-5273-4aa0-9884-047428109f84",
   "metadata": {},
   "outputs": [],
   "source": [
    "cutoff_date = pd.to_datetime('2023-08-01')"
   ]
  },
  {
   "cell_type": "code",
   "execution_count": 7,
   "id": "5e5cd6bf-f66b-4842-ab0f-1eb7f7b7db36",
   "metadata": {},
   "outputs": [],
   "source": [
    "polk_latest.rename(columns = {'SALEDT':'SALE DATE', 'PRICE': 'SALE AMOUNT'}, inplace = True)\n",
    "\n",
    "polk_latest['SALE DATE'] = pd.to_datetime(polk_latest['SALE DATE'])\n",
    "\n",
    "polk_latest = polk_latest[polk_latest['SALE DATE'] >= cutoff_date][['PIN', 'SALE DATE', 'SALE AMOUNT', 'GRANTOR', 'GRANTEE']]\n",
    "\n",
    "polk_latest.reset_index(drop = True, inplace = True)"
   ]
  },
  {
   "cell_type": "code",
   "execution_count": 11,
   "id": "6959ea2a-6aa9-41c2-94e2-6ae40f5868d6",
   "metadata": {},
   "outputs": [],
   "source": [
    "polk_latest = polk_latest.merge(gdf, on = 'PIN', how = 'left')\n",
    "\n",
    "polk_latest = gpd.GeoDataFrame(polk_latest, geometry = 'geometry')\n",
    "polk_latest.crs = gdf.crs\n",
    "\n",
    "polk_latest.to_file('data/sales_gis/monthly_updates/latest_sales/polk_latest_sales.geojson')"
   ]
  },
  {
   "cell_type": "code",
   "execution_count": 14,
   "id": "66a48ec4-8c33-4dd4-8405-0ed3d3a7e18d",
   "metadata": {},
   "outputs": [],
   "source": [
    "latest_owners = pd.read_csv('data/sales_gis/monthly_updates/polk/ftp_parcel.txt', include_fields = ['S_DATE', 'PIN', 'OWNER', 'ADDR_1', 'ADDR_2', 'CITY', 'STATE', 'ZIP'])\n",
    "latest_owners.dropna(subset = 'PIN', inplace = True)\n",
    "latest_owners.dropna(subset = 'S_DATE', inplace = True)\n",
    "latest_owners.sort_values(by = 'S_DATE', ascending = False, inplace = True)\n",
    "latest_owners.drop(columns=['S_DATE', 'geometry'], inplace = True)\n",
    "latest_owners.drop_duplicates(subset='PIN', keep='first')\n",
    "latest_owners.reset_index(drop = True, inplace = True)\n",
    "latest_owners.info(show_counts = True)"
   ]
  },
  {
   "cell_type": "code",
   "execution_count": null,
   "id": "b9e74470-6c28-4c3f-8391-579cd58c3104",
   "metadata": {},
   "outputs": [],
   "source": []
  }
 ],
 "metadata": {
  "kernelspec": {
   "display_name": "Python 3 (ipykernel)",
   "language": "python",
   "name": "python3"
  },
  "language_info": {
   "codemirror_mode": {
    "name": "ipython",
    "version": 3
   },
   "file_extension": ".py",
   "mimetype": "text/x-python",
   "name": "python",
   "nbconvert_exporter": "python",
   "pygments_lexer": "ipython3",
   "version": "3.8.19"
  }
 },
 "nbformat": 4,
 "nbformat_minor": 5
}
