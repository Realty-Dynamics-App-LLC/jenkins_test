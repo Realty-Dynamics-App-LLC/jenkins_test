{
 "cells": [
  {
   "cell_type": "code",
   "execution_count": 1,
   "metadata": {},
   "outputs": [],
   "source": [
    "import geopandas as gpd\n",
    "import pandas as pd"
   ]
  },
  {
   "cell_type": "code",
   "execution_count": 3,
   "metadata": {},
   "outputs": [],
   "source": [
    "conversion_table = pd.read_csv('/datadrive/parcel_id_to_pin_conversion_table.csv')"
   ]
  },
  {
   "cell_type": "code",
   "execution_count": 4,
   "metadata": {
    "scrolled": true
   },
   "outputs": [
    {
     "name": "stdout",
     "output_type": "stream",
     "text": [
      "<class 'pandas.core.frame.DataFrame'>\n",
      "RangeIndex: 9269565 entries, 0 to 9269564\n",
      "Data columns (total 2 columns):\n",
      " #   Column     Non-Null Count    Dtype \n",
      "---  ------     --------------    ----- \n",
      " 0   parcel_id  9269565 non-null  object\n",
      " 1   pin        9269565 non-null  object\n",
      "dtypes: object(2)\n",
      "memory usage: 141.4+ MB\n"
     ]
    }
   ],
   "source": [
    "conversion_table.info(show_counts=True)"
   ]
  },
  {
   "cell_type": "code",
   "execution_count": null,
   "metadata": {},
   "outputs": [],
   "source": [
    "gis_data = gpd.read_file('/datadrive/florida_2023.geojson')"
   ]
  },
  {
   "cell_type": "code",
   "execution_count": null,
   "metadata": {},
   "outputs": [],
   "source": [
    "gis_data.info(show_counts=True)"
   ]
  },
  {
   "cell_type": "code",
   "execution_count": null,
   "metadata": {},
   "outputs": [],
   "source": [
    "gis_data = gis_data.merge(conversion_table, left_on='PARCELNO', right_on='parcel_id')"
   ]
  },
  {
   "cell_type": "code",
   "execution_count": null,
   "metadata": {},
   "outputs": [],
   "source": [
    "gis_data.info(show_counts=True)\n",
    "gis_data.to_file('/datadrive/florida_2023_with_pin.geojson', driver='GeoJSON') "
   ]
  },
  {
   "cell_type": "code",
   "execution_count": 2,
   "metadata": {},
   "outputs": [
    {
     "name": "stderr",
     "output_type": "stream",
     "text": [
      "/tmp/ipykernel_30634/486010570.py:2: DtypeWarning: Columns (0,2,3) have mixed types. Specify dtype option on import or set low_memory=False.\n",
      "  latest_sales_data = pd.read_csv('/datadrive/latest_sales_data.csv')\n"
     ]
    }
   ],
   "source": [
    "gis_data = gpd.read_file('/datadrive/florida_2023_with_pin.geojson')\n",
    "latest_sales_data = pd.read_csv('/datadrive/latest_sales_data.csv')"
   ]
  },
  {
   "cell_type": "code",
   "execution_count": 5,
   "metadata": {},
   "outputs": [
    {
     "name": "stdout",
     "output_type": "stream",
     "text": [
      "<class 'pandas.core.frame.DataFrame'>\n",
      "RangeIndex: 3779844 entries, 0 to 3779843\n",
      "Data columns (total 5 columns):\n",
      " #   Column      Non-Null Count    Dtype  \n",
      "---  ------      --------------    -----  \n",
      " 0   ParcelID    525986 non-null   object \n",
      " 1   Sale Date   3744561 non-null  object \n",
      " 2   Sale Price  3779843 non-null  object \n",
      " 3   PIN         3246419 non-null  object \n",
      " 4   Alt Key     7297 non-null     float64\n",
      "dtypes: float64(1), object(4)\n",
      "memory usage: 144.2+ MB\n"
     ]
    }
   ],
   "source": [
    "latest_sales_data.info(show_counts=True)"
   ]
  },
  {
   "cell_type": "code",
   "execution_count": 6,
   "metadata": {},
   "outputs": [
    {
     "name": "stdout",
     "output_type": "stream",
     "text": [
      "<class 'geopandas.geodataframe.GeoDataFrame'>\n",
      "RangeIndex: 11178937 entries, 0 to 11178936\n",
      "Data columns (total 9 columns):\n",
      " #   Column      Non-Null Count     Dtype   \n",
      "---  ------      --------------     -----   \n",
      " 0   PARCELNO    11178937 non-null  object  \n",
      " 1   parcel_id   11178937 non-null  object  \n",
      " 2   pin         11178937 non-null  object  \n",
      " 3   geometry    10826206 non-null  geometry\n",
      " 4   ParcelID    0 non-null         object  \n",
      " 5   Sale Date   2417230 non-null   object  \n",
      " 6   Sale Price  2417230 non-null   object  \n",
      " 7   PIN         2417230 non-null   object  \n",
      " 8   Alt Key     0 non-null         float64 \n",
      "dtypes: float64(1), geometry(1), object(7)\n",
      "memory usage: 767.6+ MB\n"
     ]
    }
   ],
   "source": [
    "# First, merge on 'PIN' and 'pin'\n",
    "merged_data = gis_data.merge(latest_sales_data, left_on='pin', right_on='PIN', how='left')\n",
    "\n",
    "merged_data.info(show_counts=True)"
   ]
  },
  {
   "cell_type": "code",
   "execution_count": 7,
   "metadata": {},
   "outputs": [
    {
     "name": "stdout",
     "output_type": "stream",
     "text": [
      "<class 'geopandas.geodataframe.GeoDataFrame'>\n",
      "RangeIndex: 8828384 entries, 0 to 8828383\n",
      "Data columns (total 14 columns):\n",
      " #   Column        Non-Null Count    Dtype   \n",
      "---  ------        --------------    -----   \n",
      " 0   PARCELNO      8828384 non-null  object  \n",
      " 1   parcel_id     8828384 non-null  object  \n",
      " 2   pin           8828384 non-null  object  \n",
      " 3   geometry      8470914 non-null  geometry\n",
      " 4   ParcelID_x    0 non-null        object  \n",
      " 5   Sale Date_x   0 non-null        object  \n",
      " 6   Sale Price_x  0 non-null        object  \n",
      " 7   PIN_x         0 non-null        object  \n",
      " 8   Alt Key_x     0 non-null        float64 \n",
      " 9   ParcelID_y    340627 non-null   object  \n",
      " 10  Sale Date_y   309795 non-null   object  \n",
      " 11  Sale Price_y  340626 non-null   object  \n",
      " 12  PIN_y         0 non-null        object  \n",
      " 13  Alt Key_y     0 non-null        float64 \n",
      "dtypes: float64(2), geometry(1), object(11)\n",
      "memory usage: 943.0+ MB\n"
     ]
    }
   ],
   "source": [
    "# Then, for the rows that didn't find a match, merge on 'ParcelID' and 'parcel_id'\n",
    "no_pin_match = merged_data[merged_data['PIN'].isna()]\n",
    "match_on_parcel_id = no_pin_match.merge(latest_sales_data, left_on='parcel_id', right_on='ParcelID', how='left')\n",
    "\n",
    "match_on_parcel_id.info(show_counts=True)"
   ]
  },
  {
   "cell_type": "code",
   "execution_count": 8,
   "metadata": {},
   "outputs": [
    {
     "name": "stdout",
     "output_type": "stream",
     "text": [
      "<class 'geopandas.geodataframe.GeoDataFrame'>\n",
      "Index: 11245614 entries, 2053640 to 8828383\n",
      "Data columns (total 19 columns):\n",
      " #   Column        Non-Null Count     Dtype   \n",
      "---  ------        --------------     -----   \n",
      " 0   PARCELNO      11245614 non-null  object  \n",
      " 1   parcel_id     11245614 non-null  object  \n",
      " 2   pin           11245614 non-null  object  \n",
      " 3   geometry      10888137 non-null  geometry\n",
      " 4   ParcelID      0 non-null         object  \n",
      " 5   Sale Date     2417230 non-null   object  \n",
      " 6   Sale Price    2417230 non-null   object  \n",
      " 7   PIN           2417230 non-null   object  \n",
      " 8   Alt Key       0 non-null         float64 \n",
      " 9   ParcelID_x    0 non-null         object  \n",
      " 10  Sale Date_x   0 non-null         object  \n",
      " 11  Sale Price_x  0 non-null         object  \n",
      " 12  PIN_x         0 non-null         object  \n",
      " 13  Alt Key_x     0 non-null         float64 \n",
      " 14  ParcelID_y    340627 non-null    object  \n",
      " 15  Sale Date_y   309795 non-null    object  \n",
      " 16  Sale Price_y  340626 non-null    object  \n",
      " 17  PIN_y         0 non-null         object  \n",
      " 18  Alt Key_y     0 non-null         float64 \n",
      "dtypes: float64(3), geometry(1), object(15)\n",
      "memory usage: 1.7+ GB\n"
     ]
    }
   ],
   "source": [
    "# Combine the two dataframes\n",
    "final_merged_data = pd.concat([merged_data[~merged_data['PIN'].isna()], match_on_parcel_id])\n",
    "final_merged_data.info(show_counts=True)"
   ]
  },
  {
   "cell_type": "code",
   "execution_count": 9,
   "metadata": {},
   "outputs": [],
   "source": [
    "final_merged_data.drop(columns=['ParcelID', 'ParcelID_x', 'Sale Date_x', 'Sale Price_x', 'PIN_x', 'PIN_y'], inplace=True)\n",
    "final_merged_data['Sale Price'] = final_merged_data['Sale Price'].fillna(final_merged_data['Sale Price_y'])\n",
    "final_merged_data['Sale Date'] = final_merged_data['Sale Date'].fillna(final_merged_data['Sale Date_y'])\n",
    "final_merged_data = final_merged_data.drop_duplicates(subset=['parcel_id', 'pin', 'Sale Date', 'Sale Price'], keep='first')\n",
    "final_merged_data.dropna(subset=['Sale Price'], inplace=True)\n",
    "final_merged_data = final_merged_data[['parcel_id', 'pin', 'Sale Date', 'Sale Price', 'geometry']]\n",
    "final_merged_data.reset_index(drop=True, inplace=True)\n",
    "final_merged_data.to_file('/datadrive/final_sales_gis_file.geojson', driver='GeoJSON')"
   ]
  },
  {
   "cell_type": "code",
   "execution_count": 10,
   "metadata": {},
   "outputs": [
    {
     "name": "stdout",
     "output_type": "stream",
     "text": [
      "<class 'geopandas.geodataframe.GeoDataFrame'>\n",
      "RangeIndex: 2676886 entries, 0 to 2676885\n",
      "Data columns (total 5 columns):\n",
      " #   Column      Non-Null Count    Dtype   \n",
      "---  ------      --------------    -----   \n",
      " 0   parcel_id   2676886 non-null  object  \n",
      " 1   pin         2676886 non-null  object  \n",
      " 2   Sale Date   2653235 non-null  object  \n",
      " 3   Sale Price  2676886 non-null  object  \n",
      " 4   geometry    2643537 non-null  geometry\n",
      "dtypes: geometry(1), object(4)\n",
      "memory usage: 102.1+ MB\n"
     ]
    }
   ],
   "source": [
    "final_merged_data.info(show_counts=True)"
   ]
  },
  {
   "cell_type": "code",
   "execution_count": null,
   "metadata": {},
   "outputs": [],
   "source": []
  }
 ],
 "metadata": {
  "kernelspec": {
   "display_name": "Python 3 (ipykernel)",
   "language": "python",
   "name": "python3"
  },
  "language_info": {
   "codemirror_mode": {
    "name": "ipython",
    "version": 3
   },
   "file_extension": ".py",
   "mimetype": "text/x-python",
   "name": "python",
   "nbconvert_exporter": "python",
   "pygments_lexer": "ipython3",
   "version": "3.8.19"
  }
 },
 "nbformat": 4,
 "nbformat_minor": 4
}
