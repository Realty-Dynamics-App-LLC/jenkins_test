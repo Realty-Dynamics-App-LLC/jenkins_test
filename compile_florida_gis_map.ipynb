{
 "cells": [
  {
   "cell_type": "code",
   "execution_count": 1,
   "metadata": {},
   "outputs": [],
   "source": [
    "import os\n",
    "import geopandas as gpd\n",
    "import pandas as pd\n",
    "from zipfile import ZipFile\n",
    "import shutil\n",
    "import fiona"
   ]
  },
  {
   "cell_type": "code",
   "execution_count": 2,
   "metadata": {},
   "outputs": [
    {
     "name": "stdout",
     "output_type": "stream",
     "text": [
      "Error loading file holmes_2023pin.shp: A linearring requires at least 4 coordinates.\n"
     ]
    }
   ],
   "source": [
    "def load_and_concatenate_shp_files(directory):\n",
    "    gdfs = []  # list to store GeoDataFrames\n",
    "    for root, dirs, files in os.walk(directory):\n",
    "        for file in files:\n",
    "            if file.endswith(\".zip\"):\n",
    "                zip_path = os.path.join(root, file)\n",
    "                with ZipFile(zip_path, 'r') as zip_ref:\n",
    "                    extracted_files = zip_ref.namelist()\n",
    "                    zip_ref.extractall(root)\n",
    "                    for extracted_file in extracted_files:\n",
    "                        if extracted_file.endswith(\".shp\"):\n",
    "                            try:\n",
    "                                with fiona.open(os.path.join(root, extracted_file)) as src:\n",
    "                                    features = [feat for feat in src if feat['geometry'] is not None and len(feat['geometry']['coordinates'][0]) >= 4]\n",
    "                                    gdf = gpd.GeoDataFrame.from_features(features, crs=src.crs)\n",
    "                                    gdf = gdf.to_crs(\"EPSG:4326\")  # Transform to a common CRS\n",
    "                                    gdfs.append(gdf)\n",
    "                            except Exception as e:\n",
    "                                print(f\"Error loading file {extracted_file}: {e}\")\n",
    "                            finally:\n",
    "                                # Clean up all extracted files\n",
    "                                for extracted_file in extracted_files:\n",
    "                                    if not extracted_file.endswith(\".zip\"):\n",
    "                                        try:\n",
    "                                            os.remove(os.path.join(root, extracted_file))\n",
    "                                        except Exception as e:\n",
    "                                            print(f\"Error cleaning up file {extracted_file}: {e}\")\n",
    "    return pd.concat(gdfs, ignore_index=True)\n",
    "\n",
    "# Use the function\n",
    "gdf = load_and_concatenate_shp_files(\"data/GIS/2023\")\n",
    "\n",
    "# Save to a new .geojson file\n",
    "gdf.to_file(\"data/GIS/florida_2023.geojson\", driver='GeoJSON')"
   ]
  },
  {
   "cell_type": "code",
   "execution_count": null,
   "metadata": {},
   "outputs": [],
   "source": []
  }
 ],
 "metadata": {
  "kernelspec": {
   "display_name": "Python 3 (ipykernel)",
   "language": "python",
   "name": "python3"
  },
  "language_info": {
   "codemirror_mode": {
    "name": "ipython",
    "version": 3
   },
   "file_extension": ".py",
   "mimetype": "text/x-python",
   "name": "python",
   "nbconvert_exporter": "python",
   "pygments_lexer": "ipython3",
   "version": "3.8.19"
  }
 },
 "nbformat": 4,
 "nbformat_minor": 4
}
